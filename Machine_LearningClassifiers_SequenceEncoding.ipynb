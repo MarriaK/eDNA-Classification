{
  "nbformat": 4,
  "nbformat_minor": 0,
  "metadata": {
    "colab": {
      "provenance": [],
      "authorship_tag": "ABX9TyMpDVt/DgJxmD3dVLF63wGf",
      "include_colab_link": true
    },
    "kernelspec": {
      "name": "python3",
      "display_name": "Python 3"
    },
    "language_info": {
      "name": "python"
    }
  },
  "cells": [
    {
      "cell_type": "markdown",
      "metadata": {
        "id": "view-in-github",
        "colab_type": "text"
      },
      "source": [
        "<a href=\"https://colab.research.google.com/github/MarriaK/eDNA-Classification/blob/main/Machine_LearningClassifiers_SequenceEncoding.ipynb\" target=\"_parent\"><img src=\"https://colab.research.google.com/assets/colab-badge.svg\" alt=\"Open In Colab\"/></a>"
      ]
    },
    {
      "cell_type": "code",
      "execution_count": null,
      "metadata": {
        "colab": {
          "base_uri": "https://localhost:8080/"
        },
        "id": "xE4TNqB85m4T",
        "outputId": "a6d65c12-3ee7-4576-f286-3f2e1faa44fe"
      },
      "outputs": [
        {
          "output_type": "stream",
          "name": "stdout",
          "text": [
            "Drive already mounted at /content/drive; to attempt to forcibly remount, call drive.mount(\"/content/drive\", force_remount=True).\n"
          ]
        }
      ],
      "source": [
        "from google.colab import drive\n",
        "drive.mount('/content/drive')"
      ]
    },
    {
      "cell_type": "code",
      "source": [
        "import pandas as pd\n",
        "\n",
        "# read csv file\n",
        "data = pd.read_csv('/content/drive/MyDrive/Bioinformatics Group Project /Code/Data/data2.csv')"
      ],
      "metadata": {
        "id": "cDit62dh6AN9"
      },
      "execution_count": null,
      "outputs": []
    },
    {
      "cell_type": "code",
      "source": [
        "data"
      ],
      "metadata": {
        "colab": {
          "base_uri": "https://localhost:8080/",
          "height": 424
        },
        "id": "Zy9eX0Yd6SqN",
        "outputId": "afc13160-fc46-4205-931c-62b69c282dc2"
      },
      "execution_count": null,
      "outputs": [
        {
          "output_type": "execute_result",
          "data": {
            "text/plain": [
              "                                              sequence  type\n",
              "0    CCTTTAGCTGGAAACCTAGCCCATGCTGGAGCATCCGTCGACTTAA...     0\n",
              "1    CCTTTAGCTGGTAACCTAGCCCATGCTGGAGCATCCGTTGACTTAA...     0\n",
              "2    CCTTTAGCTGGAAACCTAGCCCATGCTGGAGCATCCGTTGACTTAA...     0\n",
              "3    CCTTAGCTGGAAACCTAGCCCATGCTGGAGCATCCGTTGACTTAAC...     0\n",
              "4    CCTTTAGCTGGAAACCTAGCCCACGCTGGAGCATCCGTTGACTTAA...     0\n",
              "..                                                 ...   ...\n",
              "189  TTTAGCCGGAAACCTCGCTCATGCTGGGGCATCTGTTGATCTCACT...     4\n",
              "190  CCTTTAGCCGGAAACCTCGCTCATGCTGGGGCATCTGTTGATCTCA...     4\n",
              "191  TTTAGCCGGAAACCTCGCTCATGCTGGGGCATCTGTTGATCTCACT...     4\n",
              "192  TTTAGCCGGAAACCTCGCTCATGCTGGGGCATCTGTTGATCTCACT...     4\n",
              "193  TTTAGCCGGAAACCTCGCTCATGCTGGGGCATCTGTTGATCTCACT...     4\n",
              "\n",
              "[194 rows x 2 columns]"
            ],
            "text/html": [
              "\n",
              "  <div id=\"df-343effe0-fbac-4716-bdf5-f10d93f872cc\">\n",
              "    <div class=\"colab-df-container\">\n",
              "      <div>\n",
              "<style scoped>\n",
              "    .dataframe tbody tr th:only-of-type {\n",
              "        vertical-align: middle;\n",
              "    }\n",
              "\n",
              "    .dataframe tbody tr th {\n",
              "        vertical-align: top;\n",
              "    }\n",
              "\n",
              "    .dataframe thead th {\n",
              "        text-align: right;\n",
              "    }\n",
              "</style>\n",
              "<table border=\"1\" class=\"dataframe\">\n",
              "  <thead>\n",
              "    <tr style=\"text-align: right;\">\n",
              "      <th></th>\n",
              "      <th>sequence</th>\n",
              "      <th>type</th>\n",
              "    </tr>\n",
              "  </thead>\n",
              "  <tbody>\n",
              "    <tr>\n",
              "      <th>0</th>\n",
              "      <td>CCTTTAGCTGGAAACCTAGCCCATGCTGGAGCATCCGTCGACTTAA...</td>\n",
              "      <td>0</td>\n",
              "    </tr>\n",
              "    <tr>\n",
              "      <th>1</th>\n",
              "      <td>CCTTTAGCTGGTAACCTAGCCCATGCTGGAGCATCCGTTGACTTAA...</td>\n",
              "      <td>0</td>\n",
              "    </tr>\n",
              "    <tr>\n",
              "      <th>2</th>\n",
              "      <td>CCTTTAGCTGGAAACCTAGCCCATGCTGGAGCATCCGTTGACTTAA...</td>\n",
              "      <td>0</td>\n",
              "    </tr>\n",
              "    <tr>\n",
              "      <th>3</th>\n",
              "      <td>CCTTAGCTGGAAACCTAGCCCATGCTGGAGCATCCGTTGACTTAAC...</td>\n",
              "      <td>0</td>\n",
              "    </tr>\n",
              "    <tr>\n",
              "      <th>4</th>\n",
              "      <td>CCTTTAGCTGGAAACCTAGCCCACGCTGGAGCATCCGTTGACTTAA...</td>\n",
              "      <td>0</td>\n",
              "    </tr>\n",
              "    <tr>\n",
              "      <th>...</th>\n",
              "      <td>...</td>\n",
              "      <td>...</td>\n",
              "    </tr>\n",
              "    <tr>\n",
              "      <th>189</th>\n",
              "      <td>TTTAGCCGGAAACCTCGCTCATGCTGGGGCATCTGTTGATCTCACT...</td>\n",
              "      <td>4</td>\n",
              "    </tr>\n",
              "    <tr>\n",
              "      <th>190</th>\n",
              "      <td>CCTTTAGCCGGAAACCTCGCTCATGCTGGGGCATCTGTTGATCTCA...</td>\n",
              "      <td>4</td>\n",
              "    </tr>\n",
              "    <tr>\n",
              "      <th>191</th>\n",
              "      <td>TTTAGCCGGAAACCTCGCTCATGCTGGGGCATCTGTTGATCTCACT...</td>\n",
              "      <td>4</td>\n",
              "    </tr>\n",
              "    <tr>\n",
              "      <th>192</th>\n",
              "      <td>TTTAGCCGGAAACCTCGCTCATGCTGGGGCATCTGTTGATCTCACT...</td>\n",
              "      <td>4</td>\n",
              "    </tr>\n",
              "    <tr>\n",
              "      <th>193</th>\n",
              "      <td>TTTAGCCGGAAACCTCGCTCATGCTGGGGCATCTGTTGATCTCACT...</td>\n",
              "      <td>4</td>\n",
              "    </tr>\n",
              "  </tbody>\n",
              "</table>\n",
              "<p>194 rows × 2 columns</p>\n",
              "</div>\n",
              "      <button class=\"colab-df-convert\" onclick=\"convertToInteractive('df-343effe0-fbac-4716-bdf5-f10d93f872cc')\"\n",
              "              title=\"Convert this dataframe to an interactive table.\"\n",
              "              style=\"display:none;\">\n",
              "        \n",
              "  <svg xmlns=\"http://www.w3.org/2000/svg\" height=\"24px\"viewBox=\"0 0 24 24\"\n",
              "       width=\"24px\">\n",
              "    <path d=\"M0 0h24v24H0V0z\" fill=\"none\"/>\n",
              "    <path d=\"M18.56 5.44l.94 2.06.94-2.06 2.06-.94-2.06-.94-.94-2.06-.94 2.06-2.06.94zm-11 1L8.5 8.5l.94-2.06 2.06-.94-2.06-.94L8.5 2.5l-.94 2.06-2.06.94zm10 10l.94 2.06.94-2.06 2.06-.94-2.06-.94-.94-2.06-.94 2.06-2.06.94z\"/><path d=\"M17.41 7.96l-1.37-1.37c-.4-.4-.92-.59-1.43-.59-.52 0-1.04.2-1.43.59L10.3 9.45l-7.72 7.72c-.78.78-.78 2.05 0 2.83L4 21.41c.39.39.9.59 1.41.59.51 0 1.02-.2 1.41-.59l7.78-7.78 2.81-2.81c.8-.78.8-2.07 0-2.86zM5.41 20L4 18.59l7.72-7.72 1.47 1.35L5.41 20z\"/>\n",
              "  </svg>\n",
              "      </button>\n",
              "      \n",
              "  <style>\n",
              "    .colab-df-container {\n",
              "      display:flex;\n",
              "      flex-wrap:wrap;\n",
              "      gap: 12px;\n",
              "    }\n",
              "\n",
              "    .colab-df-convert {\n",
              "      background-color: #E8F0FE;\n",
              "      border: none;\n",
              "      border-radius: 50%;\n",
              "      cursor: pointer;\n",
              "      display: none;\n",
              "      fill: #1967D2;\n",
              "      height: 32px;\n",
              "      padding: 0 0 0 0;\n",
              "      width: 32px;\n",
              "    }\n",
              "\n",
              "    .colab-df-convert:hover {\n",
              "      background-color: #E2EBFA;\n",
              "      box-shadow: 0px 1px 2px rgba(60, 64, 67, 0.3), 0px 1px 3px 1px rgba(60, 64, 67, 0.15);\n",
              "      fill: #174EA6;\n",
              "    }\n",
              "\n",
              "    [theme=dark] .colab-df-convert {\n",
              "      background-color: #3B4455;\n",
              "      fill: #D2E3FC;\n",
              "    }\n",
              "\n",
              "    [theme=dark] .colab-df-convert:hover {\n",
              "      background-color: #434B5C;\n",
              "      box-shadow: 0px 1px 3px 1px rgba(0, 0, 0, 0.15);\n",
              "      filter: drop-shadow(0px 1px 2px rgba(0, 0, 0, 0.3));\n",
              "      fill: #FFFFFF;\n",
              "    }\n",
              "  </style>\n",
              "\n",
              "      <script>\n",
              "        const buttonEl =\n",
              "          document.querySelector('#df-343effe0-fbac-4716-bdf5-f10d93f872cc button.colab-df-convert');\n",
              "        buttonEl.style.display =\n",
              "          google.colab.kernel.accessAllowed ? 'block' : 'none';\n",
              "\n",
              "        async function convertToInteractive(key) {\n",
              "          const element = document.querySelector('#df-343effe0-fbac-4716-bdf5-f10d93f872cc');\n",
              "          const dataTable =\n",
              "            await google.colab.kernel.invokeFunction('convertToInteractive',\n",
              "                                                     [key], {});\n",
              "          if (!dataTable) return;\n",
              "\n",
              "          const docLinkHtml = 'Like what you see? Visit the ' +\n",
              "            '<a target=\"_blank\" href=https://colab.research.google.com/notebooks/data_table.ipynb>data table notebook</a>'\n",
              "            + ' to learn more about interactive tables.';\n",
              "          element.innerHTML = '';\n",
              "          dataTable['output_type'] = 'display_data';\n",
              "          await google.colab.output.renderOutput(dataTable, element);\n",
              "          const docLink = document.createElement('div');\n",
              "          docLink.innerHTML = docLinkHtml;\n",
              "          element.appendChild(docLink);\n",
              "        }\n",
              "      </script>\n",
              "    </div>\n",
              "  </div>\n",
              "  "
            ]
          },
          "metadata": {},
          "execution_count": 20
        }
      ]
    },
    {
      "cell_type": "code",
      "source": [
        "data.type.value_counts()"
      ],
      "metadata": {
        "colab": {
          "base_uri": "https://localhost:8080/"
        },
        "id": "SC8uaXhy9ndh",
        "outputId": "8fce8d26-42d2-478a-b5bb-cbc9fe947d37"
      },
      "execution_count": null,
      "outputs": [
        {
          "output_type": "execute_result",
          "data": {
            "text/plain": [
              "3    51\n",
              "0    44\n",
              "4    43\n",
              "1    28\n",
              "2    28\n",
              "Name: type, dtype: int64"
            ]
          },
          "metadata": {},
          "execution_count": 21
        }
      ]
    },
    {
      "cell_type": "code",
      "source": [
        "data.head(3)"
      ],
      "metadata": {
        "colab": {
          "base_uri": "https://localhost:8080/",
          "height": 143
        },
        "id": "KJkeTxCo_Hxt",
        "outputId": "2ab57635-55cd-4dab-c19b-fc481d7e3b7c"
      },
      "execution_count": null,
      "outputs": [
        {
          "output_type": "execute_result",
          "data": {
            "text/plain": [
              "                                            sequence  type\n",
              "0  CCTTTAGCTGGAAACCTAGCCCATGCTGGAGCATCCGTCGACTTAA...     0\n",
              "1  CCTTTAGCTGGTAACCTAGCCCATGCTGGAGCATCCGTTGACTTAA...     0\n",
              "2  CCTTTAGCTGGAAACCTAGCCCATGCTGGAGCATCCGTTGACTTAA...     0"
            ],
            "text/html": [
              "\n",
              "  <div id=\"df-e312df75-49b5-4665-ab68-56b886104acc\">\n",
              "    <div class=\"colab-df-container\">\n",
              "      <div>\n",
              "<style scoped>\n",
              "    .dataframe tbody tr th:only-of-type {\n",
              "        vertical-align: middle;\n",
              "    }\n",
              "\n",
              "    .dataframe tbody tr th {\n",
              "        vertical-align: top;\n",
              "    }\n",
              "\n",
              "    .dataframe thead th {\n",
              "        text-align: right;\n",
              "    }\n",
              "</style>\n",
              "<table border=\"1\" class=\"dataframe\">\n",
              "  <thead>\n",
              "    <tr style=\"text-align: right;\">\n",
              "      <th></th>\n",
              "      <th>sequence</th>\n",
              "      <th>type</th>\n",
              "    </tr>\n",
              "  </thead>\n",
              "  <tbody>\n",
              "    <tr>\n",
              "      <th>0</th>\n",
              "      <td>CCTTTAGCTGGAAACCTAGCCCATGCTGGAGCATCCGTCGACTTAA...</td>\n",
              "      <td>0</td>\n",
              "    </tr>\n",
              "    <tr>\n",
              "      <th>1</th>\n",
              "      <td>CCTTTAGCTGGTAACCTAGCCCATGCTGGAGCATCCGTTGACTTAA...</td>\n",
              "      <td>0</td>\n",
              "    </tr>\n",
              "    <tr>\n",
              "      <th>2</th>\n",
              "      <td>CCTTTAGCTGGAAACCTAGCCCATGCTGGAGCATCCGTTGACTTAA...</td>\n",
              "      <td>0</td>\n",
              "    </tr>\n",
              "  </tbody>\n",
              "</table>\n",
              "</div>\n",
              "      <button class=\"colab-df-convert\" onclick=\"convertToInteractive('df-e312df75-49b5-4665-ab68-56b886104acc')\"\n",
              "              title=\"Convert this dataframe to an interactive table.\"\n",
              "              style=\"display:none;\">\n",
              "        \n",
              "  <svg xmlns=\"http://www.w3.org/2000/svg\" height=\"24px\"viewBox=\"0 0 24 24\"\n",
              "       width=\"24px\">\n",
              "    <path d=\"M0 0h24v24H0V0z\" fill=\"none\"/>\n",
              "    <path d=\"M18.56 5.44l.94 2.06.94-2.06 2.06-.94-2.06-.94-.94-2.06-.94 2.06-2.06.94zm-11 1L8.5 8.5l.94-2.06 2.06-.94-2.06-.94L8.5 2.5l-.94 2.06-2.06.94zm10 10l.94 2.06.94-2.06 2.06-.94-2.06-.94-.94-2.06-.94 2.06-2.06.94z\"/><path d=\"M17.41 7.96l-1.37-1.37c-.4-.4-.92-.59-1.43-.59-.52 0-1.04.2-1.43.59L10.3 9.45l-7.72 7.72c-.78.78-.78 2.05 0 2.83L4 21.41c.39.39.9.59 1.41.59.51 0 1.02-.2 1.41-.59l7.78-7.78 2.81-2.81c.8-.78.8-2.07 0-2.86zM5.41 20L4 18.59l7.72-7.72 1.47 1.35L5.41 20z\"/>\n",
              "  </svg>\n",
              "      </button>\n",
              "      \n",
              "  <style>\n",
              "    .colab-df-container {\n",
              "      display:flex;\n",
              "      flex-wrap:wrap;\n",
              "      gap: 12px;\n",
              "    }\n",
              "\n",
              "    .colab-df-convert {\n",
              "      background-color: #E8F0FE;\n",
              "      border: none;\n",
              "      border-radius: 50%;\n",
              "      cursor: pointer;\n",
              "      display: none;\n",
              "      fill: #1967D2;\n",
              "      height: 32px;\n",
              "      padding: 0 0 0 0;\n",
              "      width: 32px;\n",
              "    }\n",
              "\n",
              "    .colab-df-convert:hover {\n",
              "      background-color: #E2EBFA;\n",
              "      box-shadow: 0px 1px 2px rgba(60, 64, 67, 0.3), 0px 1px 3px 1px rgba(60, 64, 67, 0.15);\n",
              "      fill: #174EA6;\n",
              "    }\n",
              "\n",
              "    [theme=dark] .colab-df-convert {\n",
              "      background-color: #3B4455;\n",
              "      fill: #D2E3FC;\n",
              "    }\n",
              "\n",
              "    [theme=dark] .colab-df-convert:hover {\n",
              "      background-color: #434B5C;\n",
              "      box-shadow: 0px 1px 3px 1px rgba(0, 0, 0, 0.15);\n",
              "      filter: drop-shadow(0px 1px 2px rgba(0, 0, 0, 0.3));\n",
              "      fill: #FFFFFF;\n",
              "    }\n",
              "  </style>\n",
              "\n",
              "      <script>\n",
              "        const buttonEl =\n",
              "          document.querySelector('#df-e312df75-49b5-4665-ab68-56b886104acc button.colab-df-convert');\n",
              "        buttonEl.style.display =\n",
              "          google.colab.kernel.accessAllowed ? 'block' : 'none';\n",
              "\n",
              "        async function convertToInteractive(key) {\n",
              "          const element = document.querySelector('#df-e312df75-49b5-4665-ab68-56b886104acc');\n",
              "          const dataTable =\n",
              "            await google.colab.kernel.invokeFunction('convertToInteractive',\n",
              "                                                     [key], {});\n",
              "          if (!dataTable) return;\n",
              "\n",
              "          const docLinkHtml = 'Like what you see? Visit the ' +\n",
              "            '<a target=\"_blank\" href=https://colab.research.google.com/notebooks/data_table.ipynb>data table notebook</a>'\n",
              "            + ' to learn more about interactive tables.';\n",
              "          element.innerHTML = '';\n",
              "          dataTable['output_type'] = 'display_data';\n",
              "          await google.colab.output.renderOutput(dataTable, element);\n",
              "          const docLink = document.createElement('div');\n",
              "          docLink.innerHTML = docLinkHtml;\n",
              "          element.appendChild(docLink);\n",
              "        }\n",
              "      </script>\n",
              "    </div>\n",
              "  </div>\n",
              "  "
            ]
          },
          "metadata": {},
          "execution_count": 22
        }
      ]
    },
    {
      "cell_type": "markdown",
      "source": [
        "#Convert sequence data into numerical data with Sequential Encoding method"
      ],
      "metadata": {
        "id": "Zjga2r0_6VT-"
      }
    },
    {
      "cell_type": "code",
      "source": [
        "# prep data and lebels \n",
        "import numpy as np\n",
        "def label_to_count(labels):\n",
        "    '''\n",
        "    Given a list of labels, returns a dictionary that maps each class label to how many\n",
        "    instances of that label were present in the list.\n",
        "    '''\n",
        "    label_to_count_dict = {}\n",
        "    for label in labels:\n",
        "        if label not in label_to_count_dict:\n",
        "            label_to_count_dict[label] = 0\n",
        "        label_to_count_dict[label] += 1\n",
        "    return label_to_count_dict\n",
        "\n",
        "def prepare_data(seqs):\n",
        "    '''\n",
        "    Given a list of sequences, will turn into a tokenized vector.\n",
        "    \n",
        "    ARGS:\n",
        "        seqs: a list of strings where every string is a sequence\n",
        "    RETURNS:\n",
        "        tokenized_seqs (list(list(int))): list of list of tokens\n",
        "        voc2ind (dict) a dictionary where keys are letters, values are the corresponding token\n",
        "    '''\n",
        "    max_len = 0\n",
        "    \n",
        "    # build up a voc2ind (letters:token)\n",
        "    # based on ATGC and include padding and unknown tokens\n",
        "    voc2ind = {voc:ind for ind,voc in enumerate(['<pad>', '<unk>', 'A', 'T', 'C', 'G'])}\n",
        "    \n",
        "    i = len(voc2ind)\n",
        "    \n",
        "    # tokenize the sequences\n",
        "    tokenized_seqs = []\n",
        "    for seq in seqs:\n",
        "        tokenized_seq = []\n",
        "        for e in seq:\n",
        "            # make sure the sequence is upper case, a == A\n",
        "            seq = seq.upper()\n",
        "            # if we haven't seen this letter before, add to the corupus\n",
        "            if not e in voc2ind:\n",
        "                voc2ind[e] = i\n",
        "                i += 1\n",
        "            tokenized_seq.append(voc2ind[e])\n",
        "        tokenized_seqs.append(tokenized_seq)\n",
        "        \n",
        "    return tokenized_seqs, voc2ind\n",
        "        \n",
        "res = prepare_data(['ATCG', 'TAGA', 'APO'])\n",
        "print(res)\n",
        "assert(res[0] == [[2, 3, 4, 5], [3, 2, 5, 2], [2, 6, 7]]), res[0]\n",
        "\n",
        "\n",
        "def prepare_labels(labels):\n",
        "    '''\n",
        "    Given a list of labels will turn them into integer labels\n",
        "    Args:\n",
        "        labels: a list of labels\n",
        "    Returns:\n",
        "        tokenized_labels: numpy array(list) a list of label tokens\n",
        "        label2token: (dict) a dictionary where keys are letters, values are corresponding token\n",
        "    '''\n",
        "    tokenized_labels = []\n",
        "    label2token = {}\n",
        "    i = 0\n",
        "    for label in labels:\n",
        "        if not label in label2token:\n",
        "            label2token[label] = i\n",
        "            i += 1\n",
        "        tokenized_labels.append(label2token[label])\n",
        "    return tokenized_labels, label2token\n",
        "\n",
        "\n",
        "def pad(tokenized_seqs, voc2ind):\n",
        "    '''\n",
        "    Pad each sequence to the maximum length by adding a <pad> token\n",
        "    \n",
        "    ARGS:\n",
        "        tokenized_seqs (list(list(str))): list of list of tokens\n",
        "        voc2ind (dict) a dictionary where keys are letters, values are the corresponding token\n",
        "    RETURNS:\n",
        "        a numpy array of all the tokenized sequences that have been padded to be the same\n",
        "        length.\n",
        "    '''\n",
        "\n",
        "    padded_seqs = []\n",
        "    \n",
        "    # find max sequence length\n",
        "    max_len = 0\n",
        "    for seq in tokenized_seqs:\n",
        "        max_len = max(len(seq), max_len)\n",
        "    \n",
        "    # add padding so sequences are max_length\n",
        "    for seq in tokenized_seqs:\n",
        "        padded_seq = seq + [voc2ind['<pad>']] * (max_len - len(seq))\n",
        "        padded_seqs.append(padded_seq)\n",
        "        \n",
        "    return np.array(padded_seqs, dtype=np.float32)/6"
      ],
      "metadata": {
        "colab": {
          "base_uri": "https://localhost:8080/"
        },
        "id": "tmwEfsaj6U1y",
        "outputId": "cf50a15b-1eba-4781-b1de-de0a58e9f789"
      },
      "execution_count": null,
      "outputs": [
        {
          "output_type": "stream",
          "name": "stdout",
          "text": [
            "([[2, 3, 4, 5], [3, 2, 5, 2], [2, 6, 7]], {'<pad>': 0, '<unk>': 1, 'A': 2, 'T': 3, 'C': 4, 'G': 5, 'P': 6, 'O': 7})\n"
          ]
        }
      ]
    },
    {
      "cell_type": "code",
      "source": [
        "sequence = data['sequence'].values.tolist()\n",
        "labels = data['type'].values.tolist()"
      ],
      "metadata": {
        "id": "ADcxPasT6yIP"
      },
      "execution_count": null,
      "outputs": []
    },
    {
      "cell_type": "code",
      "source": [
        "def dataprep(seqs, labels_all):\n",
        "  # tokenizing and getting a vocab\n",
        "  token_seqs, voc2ind = prepare_data(seqs)\n",
        "\n",
        "  # padding\n",
        "  token_seqs = pad(token_seqs, voc2ind)\n",
        "\n",
        "  # tokenizing labels\n",
        "  tokenized_labels, label2token = prepare_labels(labels_all)\n",
        "\n",
        "  # Showing the result of this:\n",
        "  print(\"\\n\",\"tokenized sequences\",\"\\n\", token_seqs, \"\\n\\n\", \"letters to token \"+str(voc2ind), \"\\n\\n\", \"label_to_count \" + str(label_to_count(labels_all)))\n",
        "\n",
        "  return np.array(token_seqs), np.array(tokenized_labels)"
      ],
      "metadata": {
        "id": "CinMNzxw7Ctt"
      },
      "execution_count": null,
      "outputs": []
    },
    {
      "cell_type": "code",
      "source": [
        "X, Y = dataprep(sequence,labels)"
      ],
      "metadata": {
        "colab": {
          "base_uri": "https://localhost:8080/"
        },
        "id": "zZG01utL7JRA",
        "outputId": "2b155467-e291-401c-960b-842e7affd6a1"
      },
      "execution_count": null,
      "outputs": [
        {
          "output_type": "stream",
          "name": "stdout",
          "text": [
            "\n",
            " tokenized sequences \n",
            " [[0.6666667 0.6666667 0.5       ... 0.        0.        0.       ]\n",
            " [0.6666667 0.6666667 0.5       ... 0.        0.        0.       ]\n",
            " [0.6666667 0.6666667 0.5       ... 0.        0.        0.       ]\n",
            " ...\n",
            " [0.5       0.5       0.5       ... 0.        0.        0.       ]\n",
            " [0.5       0.5       0.5       ... 0.        0.        0.       ]\n",
            " [0.5       0.5       0.5       ... 0.        0.        0.       ]] \n",
            "\n",
            " letters to token {'<pad>': 0, '<unk>': 1, 'A': 2, 'T': 3, 'C': 4, 'G': 5, 'N': 6, 'Y': 7, 'S': 8, 'W': 9, 'M': 10} \n",
            "\n",
            " label_to_count {0: 44, 1: 28, 2: 28, 3: 51, 4: 43}\n"
          ]
        }
      ]
    },
    {
      "cell_type": "code",
      "source": [
        "import pandas as pd\n",
        "import numpy as np\n",
        "import matplotlib.pyplot as plt\n",
        "import seaborn as sns\n",
        "from IPython.display import Image\n",
        "from sklearn.manifold import TSNE\n",
        "\n",
        "\n",
        "color = Y\n",
        "#color = [np.argmax(i) for i in color] # take one-hot Convert encoding to integer \n",
        "#color = np.stack(color, axis=0)\n",
        "group = color\n",
        "#cdict = {0:'black', 1: 'red', 2: 'blue', 3: 'green',}\n",
        "\n",
        "n_neighbors = 12   # How many categories are there \n",
        "\n",
        "##### 2D feature plot\n",
        "y = TSNE(n_components=2, learning_rate='auto',init='pca').fit_transform(X)\n",
        "scatter_x = y[:, 0]\n",
        "scatter_y = y[:, 1]\n",
        "\n",
        "#cdict = {0:'black', 1: 'red', 2: 'blue', 3: 'green', 4:'brown', 5:'gray', 6:'yellow', 7:'orange', 8:'purple', 9:'cyan', 10:'pink', 11:'olive',}\n",
        "fig = plt.figure(figsize=(12, 12))\n",
        "for g in np.unique(group):\n",
        "    ix = np.where(group == g)\n",
        "    plt.scatter(scatter_x[ix], scatter_y[ix] ,label = g, s = 15)\n",
        "plt.legend()\n",
        "plt.axis('off')"
      ],
      "metadata": {
        "colab": {
          "base_uri": "https://localhost:8080/",
          "height": 1000
        },
        "id": "jLX_8Cve4u3L",
        "outputId": "702645e9-ba5d-4a9d-ba62-ea32b5e2307c"
      },
      "execution_count": null,
      "outputs": [
        {
          "output_type": "execute_result",
          "data": {
            "text/plain": [
              "(-9.322256231307984,\n",
              " 14.019890928268433,\n",
              " -10.436495351791383,\n",
              " 16.80687861442566)"
            ]
          },
          "metadata": {},
          "execution_count": 30
        },
        {
          "output_type": "display_data",
          "data": {
            "text/plain": [
              "<Figure size 1200x1200 with 1 Axes>"
            ],
            "image/png": "[encoded data removed]"
          },
          "metadata": {}
        }
      ]
    },
    {
      "cell_type": "code",
      "source": [
        "type(Y)"
      ],
      "metadata": {
        "colab": {
          "base_uri": "https://localhost:8080/"
        },
        "id": "EMRKP9qq77rE",
        "outputId": "12b73902-df20-41cb-8b28-62833c303bd0"
      },
      "execution_count": null,
      "outputs": [
        {
          "output_type": "execute_result",
          "data": {
            "text/plain": [
              "numpy.ndarray"
            ]
          },
          "metadata": {},
          "execution_count": 10
        }
      ]
    },
    {
      "cell_type": "code",
      "source": [
        "from sklearn.model_selection import cross_val_score\n",
        "from sklearn.model_selection import StratifiedKFold\n",
        "\n",
        "from sklearn.metrics import classification_report\n",
        "from sklearn.metrics import confusion_matrix\n",
        "from sklearn.metrics import accuracy_score\n",
        "\n",
        "from sklearn.tree import DecisionTreeClassifier\n",
        "from sklearn.neighbors import KNeighborsClassifier\n",
        "from sklearn.ensemble import RandomForestClassifier\n",
        "from sklearn.naive_bayes import MultinomialNB\n",
        "from sklearn import svm\n",
        "\n",
        "from xgboost import XGBClassifier\n",
        "from lightgbm import LGBMClassifier"
      ],
      "metadata": {
        "id": "jGHLa6rk8_Iz"
      },
      "execution_count": null,
      "outputs": []
    },
    {
      "cell_type": "code",
      "source": [
        "from sklearn.feature_extraction.text import CountVectorizer\n",
        "from sklearn.model_selection import cross_val_score\n",
        "from sklearn.model_selection import train_test_split\n",
        "from sklearn.naive_bayes import MultinomialNB\n",
        "from sklearn.model_selection import RandomizedSearchCV, GridSearchCV\n",
        "from sklearn.model_selection import ShuffleSplit\n",
        "from sklearn.model_selection import cross_val_score\n",
        "from sklearn.model_selection import KFold\n",
        "from sklearn.metrics import confusion_matrix\n",
        "from sklearn.metrics import classification_report\n",
        "from sklearn.metrics import f1_score\n",
        "from sklearn.experimental import enable_halving_search_cv  # noqa\n",
        "from sklearn.model_selection import HalvingRandomSearchCV\n",
        "from scipy.stats import randint\n",
        "import warnings\n",
        "\n",
        "\n",
        "\n",
        "warnings.filterwarnings('ignore') \n",
        "\n",
        "kf = KFold(n_splits=5, random_state=42, shuffle=True)\n",
        "max_acc = 0\n",
        "all_accs = []\n",
        "#MultinomialNB\n",
        "#print(\"dataset_name: \",i[1])\n",
        "print(\"Model_name: \",\"MultinomialNB\")\n",
        "for i, (train_index, test_index) in enumerate(kf.split(X)):\n",
        "  X_train, X_test = X[train_index], X[test_index]\n",
        "  y_train, y_test = Y[train_index], Y[test_index]\n",
        "  \n",
        "  mnparams = {\"alpha\":[0.1,0.2,0.3,0.4]}\n",
        "  #random_search = HalvingRandomSearchCV(MultinomialNB(), mnparams ,random_state=42)\n",
        "  random_search = RandomizedSearchCV(estimator = MultinomialNB(), param_distributions= mnparams,\n",
        "                                    n_iter =10, cv=9, n_jobs=1,scoring = 'f1_micro')\n",
        "  random_search.fit(X_train, y_train)\n",
        "  classifier = MultinomialNB(alpha = random_search.best_params_[\"alpha\"])\n",
        "  classifier.fit(X_train,y_train)\n",
        "  acc = f1_score(y_test, classifier.predict(X_test) , average='macro')\n",
        "  all_accs.append(acc)\n",
        "  \n",
        "  if acc>max_acc:\n",
        "    max_acc = acc\n",
        "    y_pred = classifier.predict(X_test)\n",
        "    \n",
        "    cls_report = classification_report(y_test, y_pred)\n",
        "    conf_matrix = confusion_matrix(y_test, y_pred)\n",
        "print(cls_report)\n",
        "print(conf_matrix)\n",
        "print(\"\\n\")\n",
        "print(\"-----------------------------------------------\")"
      ],
      "metadata": {
        "colab": {
          "base_uri": "https://localhost:8080/"
        },
        "id": "SIZdgSzK7S-3",
        "outputId": "baf02400-25be-4717-98aa-3badd50b01f7"
      },
      "execution_count": null,
      "outputs": [
        {
          "output_type": "stream",
          "name": "stdout",
          "text": [
            "Model_name:  MultinomialNB\n",
            "              precision    recall  f1-score   support\n",
            "\n",
            "           0       0.71      1.00      0.83         5\n",
            "           1       0.86      0.75      0.80         8\n",
            "           2       0.80      0.80      0.80         5\n",
            "           3       0.80      0.80      0.80        10\n",
            "           4       0.67      0.60      0.63        10\n",
            "\n",
            "    accuracy                           0.76        38\n",
            "   macro avg       0.77      0.79      0.77        38\n",
            "weighted avg       0.77      0.76      0.76        38\n",
            "\n",
            "[[5 0 0 0 0]\n",
            " [0 6 1 0 1]\n",
            " [0 0 4 0 1]\n",
            " [1 0 0 8 1]\n",
            " [1 1 0 2 6]]\n",
            "\n",
            "\n",
            "-----------------------------------------------\n"
          ]
        }
      ]
    },
    {
      "cell_type": "code",
      "source": [
        "from sklearn.feature_extraction.text import CountVectorizer\n",
        "from sklearn.model_selection import cross_val_score\n",
        "from sklearn.model_selection import train_test_split\n",
        "from sklearn.naive_bayes import MultinomialNB\n",
        "from sklearn.model_selection import RandomizedSearchCV, GridSearchCV\n",
        "from sklearn.model_selection import ShuffleSplit\n",
        "from sklearn.model_selection import cross_val_score\n",
        "from sklearn.model_selection import KFold\n",
        "from sklearn.metrics import confusion_matrix\n",
        "from sklearn.metrics import classification_report\n",
        "from sklearn.metrics import f1_score\n",
        "import warnings\n",
        "\n",
        "\n",
        "\n",
        "kf = KFold(n_splits=5, random_state=42, shuffle=True)\n",
        "max_acc = 0\n",
        "all_accs = []\n",
        "svcparams = {'C': [0.1,1,2],'kernel': ['rbf', 'poly', 'sigmoid']} #find best parameters \n",
        "#svcparams = {'C': [0.1,1,2], 'gamma': [1,0.1,0.01,0.001],'kernel': ['rbf', 'poly', 'sigmoid']} #find best parameters \n",
        "random_search = RandomizedSearchCV(estimator = svm.SVC(), param_distributions= svcparams,\n",
        "                                n_iter =10, cv=9, n_jobs=-1,scoring = 'accuracy')\n",
        "random_search.fit(X, Y)\n",
        "#SVM\n",
        "#print(\"dataset_name: \",i[1])\n",
        "print(\"Model_name: \",\"SVM\")\n",
        "for i, (train_index, test_index) in enumerate(kf.split(X)):\n",
        "  X_train, X_test = X[train_index], X[test_index]\n",
        "  y_train, y_test = Y[train_index], Y[test_index]\n",
        "\n",
        "  classifier = svm.SVC(kernel= random_search.best_params_[\"kernel\"], \n",
        "                        C = random_search.best_params_[\"C\"], \n",
        "                        random_state = 42)\n",
        "  classifier.fit(X_train,y_train)\n",
        "  acc = f1_score(y_test, classifier.predict(X_test) , average='macro')\n",
        "  all_accs.append(acc)\n",
        "  print(f\"Fold {i}:\")\n",
        "  if acc>max_acc:\n",
        "    max_acc = acc\n",
        "    y_pred = classifier.predict(X_test)\n",
        "    #target_names = y_pred[:-1].unique().tolist()\n",
        "    cls_report = classification_report(y_test, y_pred)\n",
        "    conf_matrix = confusion_matrix(y_test, y_pred)\n",
        "print(cls_report)\n",
        "print(conf_matrix)\n",
        "print(all_accs)\n",
        "print(\"\\n\")\n",
        "print(\"-----------------------------------------------\")"
      ],
      "metadata": {
        "colab": {
          "base_uri": "https://localhost:8080/"
        },
        "id": "HJ_HnmVk8yms",
        "outputId": "62c6a91b-5bc6-427f-b8ff-cf356840cb09"
      },
      "execution_count": null,
      "outputs": [
        {
          "output_type": "stream",
          "name": "stdout",
          "text": [
            "Model_name:  SVM\n",
            "Fold 0:\n",
            "Fold 1:\n",
            "Fold 2:\n",
            "Fold 3:\n",
            "Fold 4:\n",
            "              precision    recall  f1-score   support\n",
            "\n",
            "           0       1.00      1.00      1.00         7\n",
            "           1       1.00      1.00      1.00         6\n",
            "           2       1.00      1.00      1.00         5\n",
            "           3       1.00      1.00      1.00        12\n",
            "           4       1.00      1.00      1.00         9\n",
            "\n",
            "    accuracy                           1.00        39\n",
            "   macro avg       1.00      1.00      1.00        39\n",
            "weighted avg       1.00      1.00      1.00        39\n",
            "\n",
            "[[ 7  0  0  0  0]\n",
            " [ 0  6  0  0  0]\n",
            " [ 0  0  5  0  0]\n",
            " [ 0  0  0 12  0]\n",
            " [ 0  0  0  0  9]]\n",
            "[1.0, 0.9759197324414716, 0.9264367816091955, 0.9509003074220466, 0.9684848484848484]\n",
            "\n",
            "\n",
            "-----------------------------------------------\n"
          ]
        }
      ]
    },
    {
      "cell_type": "code",
      "source": [
        "from sklearn.feature_extraction.text import CountVectorizer\n",
        "from sklearn.model_selection import cross_val_score\n",
        "from sklearn.model_selection import train_test_split\n",
        "from sklearn.naive_bayes import MultinomialNB\n",
        "from sklearn.model_selection import RandomizedSearchCV, GridSearchCV\n",
        "from sklearn.model_selection import ShuffleSplit\n",
        "from sklearn.model_selection import cross_val_score\n",
        "from sklearn.model_selection import KFold\n",
        "from sklearn.metrics import confusion_matrix\n",
        "from sklearn.metrics import classification_report\n",
        "from sklearn.metrics import f1_score\n",
        "import warnings\n",
        "\n",
        "warnings.filterwarnings('ignore') \n",
        "\n",
        "kf = KFold(n_splits=5, random_state=42, shuffle=True)\n",
        "max_acc = 0\n",
        "all_accs = []\n",
        "#print(\"dataset_name: \",i[1])\n",
        "#DecisionTreeClassifier\n",
        "print(\"Model_name: \",\"DecisionTreeClassifier\")\n",
        "for i, (train_index, test_index) in enumerate(kf.split(X)):\n",
        "  X_train, X_test = X[train_index], X[test_index]\n",
        "  y_train, y_test = Y[train_index], Y[test_index]\n",
        "\n",
        "  DSparams={\n",
        "\"max_depth\" : [2,4,6,8,10,12,14],\n",
        "\"criterion\" : ['gini','entropy'],\n",
        "\"min_samples_split\" : range(2,10),\n",
        "\"min_samples_leaf\" : range(2,10),\n",
        "  }\n",
        "  random_search = RandomizedSearchCV(estimator = DecisionTreeClassifier(), param_distributions=DSparams,\n",
        "                                  n_iter =10, cv=9, n_jobs=1,scoring = 'f1_micro')\n",
        "  random_search.fit(X_train, y_train)\n",
        "  classifier = DecisionTreeClassifier(min_samples_split= random_search.best_params_[\"min_samples_split\"]\n",
        "                                      ,min_samples_leaf = random_search.best_params_[\"min_samples_leaf\"],\n",
        "                                      max_depth =  random_search.best_params_[\"max_depth\"], \n",
        "                                      criterion = random_search.best_params_[\"criterion\"])\n",
        "  classifier.fit(X_train,y_train)\n",
        "  acc = f1_score(y_test, classifier.predict(X_test) , average='macro')\n",
        "  all_accs.append(acc)\n",
        "  print(f\"Fold {i}:\")\n",
        "  if acc>max_acc:\n",
        "    max_acc = acc\n",
        "    y_pred = classifier.predict(X_test)\n",
        "    print(y_pred)\n",
        "    #target_names = y_pred[:-1].unique().tolist()\n",
        "    cls_report = classification_report(y_test, y_pred)\n",
        "    conf_matrix = confusion_matrix(y_test, y_pred)\n",
        "print(cls_report)\n",
        "print(conf_matrix)\n",
        "print(all_accs)\n",
        "print(\"\\n\")\n",
        "print(\"-----------------------------------------------\")"
      ],
      "metadata": {
        "colab": {
          "base_uri": "https://localhost:8080/"
        },
        "id": "rrIETdUinMdP",
        "outputId": "13a42894-9ac7-40b9-bd56-ddb71b746ace"
      },
      "execution_count": null,
      "outputs": [
        {
          "output_type": "stream",
          "name": "stdout",
          "text": [
            "Model_name:  DecisionTreeClassifier\n",
            "Fold 0:\n",
            "[0 0 0 0 0 0 0 1 1 1 1 1 1 3 2 2 2 2 3 3 3 3 3 3 3 3 3 3 3 3 4 4 4 4 0 4 4\n",
            " 4 4]\n",
            "Fold 1:\n",
            "[0 0 4 0 0 0 0 0 4 0 0 1 1 1 1 1 2 2 2 2 2 2 3 3 3 3 3 3 3 3 3 3 4 4 4 4 4\n",
            " 4 4]\n",
            "Fold 2:\n",
            "Fold 3:\n",
            "[0 0 0 0 0 0 0 0 1 1 1 1 1 2 2 2 2 2 2 2 2 4 2 3 3 3 3 3 4 4 4 4 4 4 4 4 4\n",
            " 4 4]\n",
            "Fold 4:\n",
            "              precision    recall  f1-score   support\n",
            "\n",
            "           0       1.00      1.00      1.00         8\n",
            "           1       1.00      1.00      1.00         5\n",
            "           2       1.00      0.90      0.95        10\n",
            "           3       1.00      1.00      1.00         5\n",
            "           4       0.92      1.00      0.96        11\n",
            "\n",
            "    accuracy                           0.97        39\n",
            "   macro avg       0.98      0.98      0.98        39\n",
            "weighted avg       0.98      0.97      0.97        39\n",
            "\n",
            "[[ 8  0  0  0  0]\n",
            " [ 0  5  0  0  0]\n",
            " [ 0  0  9  0  1]\n",
            " [ 0  0  0  5  0]\n",
            " [ 0  0  0  0 11]]\n",
            "[0.9446797385620915, 0.9550000000000001, 0.9264367816091955, 0.9807780320366133, 0.9112918660287083]\n",
            "\n",
            "\n",
            "-----------------------------------------------\n"
          ]
        }
      ]
    },
    {
      "cell_type": "code",
      "source": [
        "from sklearn.feature_extraction.text import CountVectorizer\n",
        "from sklearn.model_selection import cross_val_score\n",
        "from sklearn.model_selection import train_test_split\n",
        "from sklearn.naive_bayes import MultinomialNB\n",
        "from sklearn.model_selection import RandomizedSearchCV, GridSearchCV\n",
        "from sklearn.model_selection import ShuffleSplit\n",
        "from sklearn.model_selection import cross_val_score\n",
        "from sklearn.model_selection import KFold\n",
        "from sklearn.metrics import confusion_matrix\n",
        "from sklearn.metrics import classification_report\n",
        "from sklearn.metrics import f1_score\n",
        "import warnings\n",
        "\n",
        "warnings.filterwarnings('ignore')  \n",
        "\n",
        "rfparams={\n",
        "  'n_estimators': [200, 500],\n",
        "  'max_features': ['auto', 'sqrt', 'log2'],\n",
        "  'max_depth' : [4,5,6,7,8],\n",
        "  'criterion' :['gini', 'entropy']\n",
        "  }\n",
        "rfc=RandomForestClassifier(random_state=42)\n",
        "random_search = RandomizedSearchCV(estimator = rfc, param_distributions=rfparams,\n",
        "                                  n_iter =10, cv=9, n_jobs=-1)\n",
        "random_search.fit(X, Y)\n",
        "kf = KFold(n_splits=5, random_state=42, shuffle=True)\n",
        "max_acc = 0\n",
        "all_accs = []\n",
        "#print(\"dataset_name: \",i[1])\n",
        "#RandomForestClassifier\n",
        "max_acc = 0\n",
        "for i, (train_index, test_index) in enumerate(kf.split(X)):\n",
        "  X_train, X_test = X[train_index], X[test_index]\n",
        "  y_train, y_test = Y[train_index], Y[test_index]\n",
        "\n",
        "  \n",
        "  classifier = RandomForestClassifier(random_state = 42,\n",
        "                                      n_estimators= random_search.best_params_[\"n_estimators\"],\n",
        "                                      max_features= random_search.best_params_[\"max_features\"],\n",
        "                                      max_depth= random_search.best_params_[\"max_depth\"],\n",
        "                                      criterion= random_search.best_params_[\"criterion\"])\n",
        "  classifier.fit(X_train,y_train)\n",
        "  acc = f1_score(y_test, classifier.predict(X_test) , average='macro')\n",
        "  all_accs.append(acc)\n",
        "  print(f\"Fold {i}:\")\n",
        "  if acc>max_acc:\n",
        "    max_acc = acc\n",
        "    y_pred = classifier.predict(X_test)\n",
        "    print(y_pred)\n",
        "    #target_names = y_pred[:-1].unique().tolist()\n",
        "    cls_report = classification_report(y_test, y_pred)\n",
        "    conf_matrix = confusion_matrix(y_test, y_pred)\n",
        "print(cls_report)\n",
        "print(conf_matrix)\n",
        "print(all_accs)\n",
        "print(\"\\n\")\n",
        "print(\"-----------------------------------------------\")"
      ],
      "metadata": {
        "colab": {
          "base_uri": "https://localhost:8080/"
        },
        "id": "RODhSryvoN02",
        "outputId": "0352439c-aa50-4540-d643-8232202710b0"
      },
      "execution_count": null,
      "outputs": [
        {
          "output_type": "stream",
          "name": "stdout",
          "text": [
            "Fold 0:\n",
            "[0 0 0 0 0 0 0 1 1 1 1 1 1 2 2 2 2 2 3 3 3 3 3 3 3 3 3 3 3 3 4 4 4 4 4 4 4\n",
            " 4 4]\n",
            "Fold 1:\n",
            "Fold 2:\n",
            "Fold 3:\n",
            "Fold 4:\n",
            "              precision    recall  f1-score   support\n",
            "\n",
            "           0       1.00      1.00      1.00         7\n",
            "           1       1.00      1.00      1.00         6\n",
            "           2       1.00      1.00      1.00         5\n",
            "           3       1.00      1.00      1.00        12\n",
            "           4       1.00      1.00      1.00         9\n",
            "\n",
            "    accuracy                           1.00        39\n",
            "   macro avg       1.00      1.00      1.00        39\n",
            "weighted avg       1.00      1.00      1.00        39\n",
            "\n",
            "[[ 7  0  0  0  0]\n",
            " [ 0  6  0  0  0]\n",
            " [ 0  0  5  0  0]\n",
            " [ 0  0  0 12  0]\n",
            " [ 0  0  0  0  9]]\n",
            "[1.0, 1.0, 0.9264367816091955, 0.9444444444444444, 0.9684848484848484]\n",
            "\n",
            "\n",
            "-----------------------------------------------\n"
          ]
        }
      ]
    }
  ]
}